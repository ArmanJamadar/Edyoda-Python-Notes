{
 "cells": [
  {
   "cell_type": "code",
   "execution_count": 1,
   "id": "811c5e39",
   "metadata": {},
   "outputs": [
    {
     "name": "stdout",
     "output_type": "stream",
     "text": [
      "edyoda\n"
     ]
    }
   ],
   "source": [
    "print(\"edyoda\")"
   ]
  },
  {
   "cell_type": "code",
   "execution_count": 2,
   "id": "fdcde0c5",
   "metadata": {},
   "outputs": [],
   "source": [
    "#Arman\n"
   ]
  },
  {
   "cell_type": "markdown",
   "id": "2a676116",
   "metadata": {},
   "source": [
    "#arman\n",
    "##arman\n"
   ]
  },
  {
   "cell_type": "code",
   "execution_count": 3,
   "id": "2aa90a10",
   "metadata": {},
   "outputs": [
    {
     "name": "stdout",
     "output_type": "stream",
     "text": [
      "Arman\n"
     ]
    }
   ],
   "source": [
    "print(\"Arman\")\n",
    "\n"
   ]
  },
  {
   "cell_type": "markdown",
   "id": "375d3c1c",
   "metadata": {},
   "source": [
    "# Hello\n",
    "## hello\n",
    "### hello"
   ]
  },
  {
   "cell_type": "markdown",
   "id": "eab9ec8d",
   "metadata": {},
   "source": [
    "**Arman**"
   ]
  },
  {
   "cell_type": "markdown",
   "id": "d5acacdd",
   "metadata": {},
   "source": [
    "*arman*"
   ]
  },
  {
   "cell_type": "markdown",
   "id": "4ac0fb13",
   "metadata": {},
   "source": [
    "## Block Code\n",
    "> This is Block Code"
   ]
  },
  {
   "cell_type": "markdown",
   "id": "24a92868",
   "metadata": {},
   "source": [
    "`hey`"
   ]
  },
  {
   "cell_type": "markdown",
   "id": "047e26fd",
   "metadata": {},
   "source": [
    "# Orderd list\n",
    "1. First\n",
    "2. Second\n",
    "3. Third"
   ]
  },
  {
   "cell_type": "markdown",
   "id": "0c605091",
   "metadata": {},
   "source": [
    "# unordered list\n",
    "- first\n",
    "- secvnf\n",
    "- third"
   ]
  },
  {
   "cell_type": "markdown",
   "id": "a2665c22",
   "metadata": {},
   "source": [
    "# Code\n",
    "`code mode`"
   ]
  },
  {
   "cell_type": "markdown",
   "id": "8dfa6da4",
   "metadata": {},
   "source": [
    "# Horinzontal Rule\n",
    "---\n"
   ]
  },
  {
   "cell_type": "markdown",
   "id": "60c1494f",
   "metadata": {},
   "source": [
    "## Link\n",
    "[Arman](https://www.google.com)"
   ]
  },
  {
   "attachments": {},
   "cell_type": "markdown",
   "id": "cf74c68b",
   "metadata": {},
   "source": [
    "# image\n",
    "![alttext](5c6247045cfdce37b6a8559e_da39a3ee5e6b4b0d3255bfef95601890afd80709.jpg)"
   ]
  },
  {
   "cell_type": "markdown",
   "id": "266f8e5a",
   "metadata": {},
   "source": [
    "## Table\n",
    "| Syntax | Description |\n",
    "| ------ | ----------- |\n",
    "| Header | Title |\n",
    "| Paragraph | Text |"
   ]
  },
  {
   "cell_type": "code",
   "execution_count": null,
   "id": "4fc390db",
   "metadata": {},
   "outputs": [],
   "source": []
  },
  {
   "cell_type": "markdown",
   "id": "a900feb6",
   "metadata": {},
   "source": [
    "`Russia` attack `ukrain`"
   ]
  },
  {
   "cell_type": "code",
   "execution_count": 4,
   "id": "371aafe8",
   "metadata": {},
   "outputs": [
    {
     "name": "stdout",
     "output_type": "stream",
     "text": [
      "War\n"
     ]
    }
   ],
   "source": [
    "print(\"War\")"
   ]
  },
  {
   "cell_type": "code",
   "execution_count": 5,
   "id": "7bf73b7d",
   "metadata": {},
   "outputs": [
    {
     "name": "stdout",
     "output_type": "stream",
     "text": [
      "5\n"
     ]
    }
   ],
   "source": [
    "a=2\n",
    "b=3\n",
    "print(a+b)"
   ]
  },
  {
   "cell_type": "code",
   "execution_count": null,
   "id": "88e6d96d",
   "metadata": {},
   "outputs": [],
   "source": []
  }
 ],
 "metadata": {
  "kernelspec": {
   "display_name": "Python 3 (ipykernel)",
   "language": "python",
   "name": "python3"
  },
  "language_info": {
   "codemirror_mode": {
    "name": "ipython",
    "version": 3
   },
   "file_extension": ".py",
   "mimetype": "text/x-python",
   "name": "python",
   "nbconvert_exporter": "python",
   "pygments_lexer": "ipython3",
   "version": "3.10.2"
  }
 },
 "nbformat": 4,
 "nbformat_minor": 5
}
