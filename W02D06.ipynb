{
 "cells": [
  {
   "cell_type": "code",
   "execution_count": 5,
   "id": "e91ca34f",
   "metadata": {},
   "outputs": [
    {
     "name": "stdout",
     "output_type": "stream",
     "text": [
      "1\n",
      "2\n",
      "3\n",
      "4\n",
      "5\n",
      "6\n",
      "7\n",
      "8\n",
      "9\n",
      "10\n"
     ]
    }
   ],
   "source": [
    "a=0\n",
    "while a<10:\n",
    "    a+=1\n",
    "    print(a)"
   ]
  },
  {
   "cell_type": "code",
   "execution_count": 8,
   "id": "3b1dee32",
   "metadata": {},
   "outputs": [
    {
     "name": "stdout",
     "output_type": "stream",
     "text": [
      "+ 1\n",
      "- 2\n",
      "+ 3\n",
      "- 4\n",
      "+ 5\n",
      "- 6\n",
      "+ 7\n",
      "- 8\n",
      "+ 9\n",
      "- 10\n",
      "+ 11\n",
      "- 12\n",
      "+ 13\n",
      "- 14\n",
      "+ 15\n",
      "- 16\n",
      "+ 17\n",
      "- 18\n",
      "+ 19\n",
      "- 20\n",
      "+ 21\n",
      "- 22\n",
      "+ 23\n",
      "- 24\n",
      "+ 25\n",
      "- 26\n",
      "+ 27\n",
      "- 28\n",
      "+ 29\n",
      "- 30\n",
      "+ 31\n",
      "- 32\n",
      "+ 33\n",
      "- 34\n",
      "+ 35\n",
      "- 36\n",
      "+ 37\n",
      "- 38\n",
      "+ 39\n",
      "- 40\n",
      "+ 41\n",
      "- 42\n",
      "+ 43\n",
      "- 44\n",
      "+ 45\n",
      "- 46\n",
      "+ 47\n",
      "- 48\n",
      "+ 49\n",
      "- 50\n",
      "+ 51\n",
      "- 52\n",
      "+ 53\n",
      "- 54\n",
      "+ 55\n",
      "- 56\n",
      "+ 57\n",
      "- 58\n",
      "+ 59\n",
      "- 60\n",
      "+ 61\n",
      "- 62\n",
      "+ 63\n",
      "- 64\n",
      "+ 65\n",
      "- 66\n",
      "+ 67\n",
      "- 68\n",
      "+ 69\n",
      "- 70\n",
      "+ 71\n",
      "- 72\n",
      "+ 73\n",
      "- 74\n",
      "+ 75\n",
      "- 76\n",
      "+ 77\n",
      "- 78\n",
      "+ 79\n",
      "- 80\n",
      "+ 81\n",
      "- 82\n",
      "+ 83\n",
      "- 84\n",
      "+ 85\n",
      "- 86\n",
      "+ 87\n",
      "- 88\n",
      "+ 89\n",
      "- 90\n",
      "+ 91\n",
      "- 92\n",
      "+ 93\n",
      "- 94\n",
      "+ 95\n",
      "- 96\n",
      "+ 97\n",
      "- 98\n",
      "+ 99\n",
      "- 100\n"
     ]
    }
   ],
   "source": [
    "for i in range(1,101):\n",
    "    if (i%2==0):\n",
    "        print(\"-\",i)\n",
    "    else:\n",
    "        print(\"+\",i)"
   ]
  },
  {
   "cell_type": "code",
   "execution_count": 11,
   "id": "b6ed7175",
   "metadata": {},
   "outputs": [
    {
     "name": "stdout",
     "output_type": "stream",
     "text": [
      "1\n",
      "-2\n",
      "3\n",
      "-4\n",
      "5\n",
      "-6\n",
      "7\n",
      "-8\n",
      "9\n",
      "-10\n"
     ]
    }
   ],
   "source": [
    "for i in range(1,11):\n",
    "    if i%2==0:\n",
    "        print(i-i*2)\n",
    "    else:\n",
    "        print(i)"
   ]
  },
  {
   "cell_type": "code",
   "execution_count": null,
   "id": "a51298d5",
   "metadata": {},
   "outputs": [],
   "source": [
    "# mini undo and redo\n",
    "count = 0\n",
    "while True:\n",
    "    option = input(\"Do you want to start: Y/N\")\n",
    "    if option == \"Y\":\n",
    "        choice = input(\"Forward or Backward: F/B\")\n",
    "        if choice == \"F\":\n",
    "            count+=1\n",
    "            print(\"Page is\",count)\n",
    "        elif choice == \"B\":\n",
    "            count-=1\n",
    "            print(\"Page is\",count)\n",
    "        else:\n",
    "            print(\"Incorrect choice!!\")\n",
    "    else:\n",
    "        print(\"Exiting....\")\n",
    "        break"
   ]
  },
  {
   "cell_type": "code",
   "execution_count": 1,
   "id": "8032d3fa",
   "metadata": {},
   "outputs": [
    {
     "name": "stdout",
     "output_type": "stream",
     "text": [
      "i am the\n",
      "    triple quote guy\n"
     ]
    }
   ],
   "source": [
    "a=\"\"\"i am the\n",
    "    triple quote guy\"\"\"\n",
    "print(a)"
   ]
  },
  {
   "cell_type": "code",
   "execution_count": 2,
   "id": "ed84af2e",
   "metadata": {},
   "outputs": [
    {
     "name": "stdout",
     "output_type": "stream",
     "text": [
      "a\n"
     ]
    }
   ],
   "source": [
    "a=\"edyoda\"\n",
    "print(a[-1])"
   ]
  },
  {
   "cell_type": "code",
   "execution_count": 6,
   "id": "02c4e634",
   "metadata": {},
   "outputs": [
    {
     "data": {
      "text/plain": [
       "'edy'"
      ]
     },
     "execution_count": 6,
     "metadata": {},
     "output_type": "execute_result"
    }
   ],
   "source": [
    "a[0:3]"
   ]
  },
  {
   "cell_type": "code",
   "execution_count": 7,
   "id": "37207eee",
   "metadata": {},
   "outputs": [
    {
     "data": {
      "text/plain": [
       "'edy'"
      ]
     },
     "execution_count": 7,
     "metadata": {},
     "output_type": "execute_result"
    }
   ],
   "source": [
    "a[:3]"
   ]
  },
  {
   "cell_type": "code",
   "execution_count": 12,
   "id": "edd2aed6",
   "metadata": {},
   "outputs": [
    {
     "data": {
      "text/plain": [
       "'edyo'"
      ]
     },
     "execution_count": 12,
     "metadata": {},
     "output_type": "execute_result"
    }
   ],
   "source": [
    "a[:-2]"
   ]
  },
  {
   "cell_type": "code",
   "execution_count": 13,
   "id": "91441a02",
   "metadata": {},
   "outputs": [
    {
     "data": {
      "text/plain": [
       "'ey'"
      ]
     },
     "execution_count": 13,
     "metadata": {},
     "output_type": "execute_result"
    }
   ],
   "source": [
    "a[:4:2]"
   ]
  },
  {
   "cell_type": "code",
   "execution_count": 14,
   "id": "26076858",
   "metadata": {},
   "outputs": [
    {
     "data": {
      "text/plain": [
       "'adoyde'"
      ]
     },
     "execution_count": 14,
     "metadata": {},
     "output_type": "execute_result"
    }
   ],
   "source": [
    "a[::-1]"
   ]
  },
  {
   "cell_type": "code",
   "execution_count": 15,
   "id": "01b69951",
   "metadata": {},
   "outputs": [],
   "source": [
    "a='Happy B\\' Dya'"
   ]
  },
  {
   "cell_type": "code",
   "execution_count": 16,
   "id": "532e4ca2",
   "metadata": {},
   "outputs": [
    {
     "name": "stdout",
     "output_type": "stream",
     "text": [
      "Happy B' Dya\n"
     ]
    }
   ],
   "source": [
    "print(a)"
   ]
  },
  {
   "cell_type": "code",
   "execution_count": null,
   "id": "1e5d27d7",
   "metadata": {},
   "outputs": [],
   "source": []
  }
 ],
 "metadata": {
  "kernelspec": {
   "display_name": "Python 3 (ipykernel)",
   "language": "python",
   "name": "python3"
  },
  "language_info": {
   "codemirror_mode": {
    "name": "ipython",
    "version": 3
   },
   "file_extension": ".py",
   "mimetype": "text/x-python",
   "name": "python",
   "nbconvert_exporter": "python",
   "pygments_lexer": "ipython3",
   "version": "3.10.2"
  }
 },
 "nbformat": 4,
 "nbformat_minor": 5
}
