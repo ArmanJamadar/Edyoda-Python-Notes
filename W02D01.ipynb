{
 "cells": [
  {
   "cell_type": "code",
   "execution_count": 2,
   "id": "30c85566",
   "metadata": {},
   "outputs": [
    {
     "name": "stdout",
     "output_type": "stream",
     "text": [
      "edyoda arman\n"
     ]
    }
   ],
   "source": [
    "a=\"edyoda \"\n",
    "b=\"arman\"\n",
    "print(a+b)"
   ]
  },
  {
   "cell_type": "markdown",
   "id": "52ed8479",
   "metadata": {},
   "source": [
    "# Conditional Statements"
   ]
  },
  {
   "cell_type": "code",
   "execution_count": 7,
   "id": "d036d023",
   "metadata": {},
   "outputs": [
    {
     "name": "stdout",
     "output_type": "stream",
     "text": [
      "10\n"
     ]
    }
   ],
   "source": [
    "a=10\n",
    "if a>=10:\n",
    "    print(a)\n",
    "else:\n",
    "    print(\"nothing\")"
   ]
  },
  {
   "cell_type": "code",
   "execution_count": 11,
   "id": "f021acc8",
   "metadata": {},
   "outputs": [
    {
     "name": "stdout",
     "output_type": "stream",
     "text": [
      "55 is positive number \n"
     ]
    }
   ],
   "source": [
    "number=55\n",
    "if number>0:\n",
    "    print(number,\"is positive number \")\n",
    "else:\n",
    "    print(number,\"is negative number\")"
   ]
  },
  {
   "cell_type": "code",
   "execution_count": 16,
   "id": "3c890f85",
   "metadata": {},
   "outputs": [
    {
     "name": "stdout",
     "output_type": "stream",
     "text": [
      "Enter Number0\n",
      "its zero\n"
     ]
    }
   ],
   "source": [
    "n=int(input(\"Enter Number\"))\n",
    "if n>0:\n",
    "    print(n,\" is +\")\n",
    "elif n==0:\n",
    "    print(\"\"\"its zero\"\"\")\n",
    "else:\n",
    "    print(n,\"is -\")"
   ]
  },
  {
   "cell_type": "code",
   "execution_count": 25,
   "id": "4400a58f",
   "metadata": {},
   "outputs": [
    {
     "name": "stdout",
     "output_type": "stream",
     "text": [
      "Enter the passwordradanasjfndenf\n",
      "False\n"
     ]
    }
   ],
   "source": [
    "a=\"arman\"\n",
    "pas=input(\"Enter the password\")\n",
    "if a in pas:\n",
    "     print(True)\n",
    "else:\n",
    "     print(False)\n"
   ]
  },
  {
   "cell_type": "code",
   "execution_count": 36,
   "id": "05f66fa8",
   "metadata": {},
   "outputs": [
    {
     "name": "stdout",
     "output_type": "stream",
     "text": [
      "Enter number3\n",
      "odd\n"
     ]
    }
   ],
   "source": [
    "a=int(input(\"Enter number\"))\n",
    "if(a%2==0):\n",
    "    print(\"Even\")\n",
    "elif(a%2!=0):\n",
    "    print(\"odd\")\n",
    "\n",
    "   "
   ]
  },
  {
   "cell_type": "code",
   "execution_count": 49,
   "id": "1a6da2eb",
   "metadata": {},
   "outputs": [
    {
     "name": "stdout",
     "output_type": "stream",
     "text": [
      "int\n",
      "odd\n"
     ]
    }
   ],
   "source": [
    "a=3\n",
    "if(type(a)==int):\n",
    "    print(\"int\")\n",
    "    if (a%2==0):\n",
    "        print(\"even\")\n",
    "    elif(a%2!=0):\n",
    "        print(\"odd\")\n",
    "elif(type(a)==str):\n",
    "    print(\"string\")\n",
    "else:\n",
    "    print(\"other type\")"
   ]
  },
  {
   "cell_type": "code",
   "execution_count": null,
   "id": "127922b3",
   "metadata": {},
   "outputs": [],
   "source": []
  }
 ],
 "metadata": {
  "kernelspec": {
   "display_name": "Python 3 (ipykernel)",
   "language": "python",
   "name": "python3"
  },
  "language_info": {
   "codemirror_mode": {
    "name": "ipython",
    "version": 3
   },
   "file_extension": ".py",
   "mimetype": "text/x-python",
   "name": "python",
   "nbconvert_exporter": "python",
   "pygments_lexer": "ipython3",
   "version": "3.10.2"
  }
 },
 "nbformat": 4,
 "nbformat_minor": 5
}
