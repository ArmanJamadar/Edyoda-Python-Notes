{
 "cells": [
  {
   "cell_type": "code",
   "execution_count": 1,
   "id": "2b0d4aa6",
   "metadata": {},
   "outputs": [
    {
     "name": "stdout",
     "output_type": "stream",
     "text": [
      "[1, 2, 3, 4]\n"
     ]
    }
   ],
   "source": [
    "l=[1,2,3,4,5]\n",
    "l.pop()\n",
    "print(l)"
   ]
  },
  {
   "cell_type": "code",
   "execution_count": 2,
   "id": "c26918e7",
   "metadata": {},
   "outputs": [
    {
     "data": {
      "text/plain": [
       "[]"
      ]
     },
     "execution_count": 2,
     "metadata": {},
     "output_type": "execute_result"
    }
   ],
   "source": [
    "l.clear()\n",
    "l\n"
   ]
  },
  {
   "cell_type": "code",
   "execution_count": 3,
   "id": "b236dfd1",
   "metadata": {},
   "outputs": [],
   "source": [
    "del l"
   ]
  },
  {
   "cell_type": "code",
   "execution_count": 4,
   "id": "e7bf0a10",
   "metadata": {},
   "outputs": [
    {
     "ename": "NameError",
     "evalue": "name 'l' is not defined",
     "output_type": "error",
     "traceback": [
      "\u001b[0;31m---------------------------------------------------------------------------\u001b[0m",
      "\u001b[0;31mNameError\u001b[0m                                 Traceback (most recent call last)",
      "Input \u001b[0;32mIn [4]\u001b[0m, in \u001b[0;36m<cell line: 1>\u001b[0;34m()\u001b[0m\n\u001b[0;32m----> 1\u001b[0m \u001b[43ml\u001b[49m\n",
      "\u001b[0;31mNameError\u001b[0m: name 'l' is not defined"
     ]
    }
   ],
   "source": [
    "l"
   ]
  },
  {
   "cell_type": "code",
   "execution_count": 6,
   "id": "7d40c819",
   "metadata": {},
   "outputs": [
    {
     "name": "stdout",
     "output_type": "stream",
     "text": [
      "20 10\n"
     ]
    }
   ],
   "source": [
    "a=10\n",
    "b=20\n",
    "a,b=b,a\n",
    "print(a,b)"
   ]
  },
  {
   "cell_type": "code",
   "execution_count": 7,
   "id": "92c4fcb9",
   "metadata": {},
   "outputs": [
    {
     "name": "stdout",
     "output_type": "stream",
     "text": [
      "20 10\n"
     ]
    }
   ],
   "source": [
    "#swapping of number\n",
    "a=10\n",
    "b=20\n",
    "a,b=b,a\n",
    "print(a,b)"
   ]
  },
  {
   "cell_type": "code",
   "execution_count": 8,
   "id": "2a6c258c",
   "metadata": {},
   "outputs": [
    {
     "data": {
      "text/plain": [
       "'OOOO'"
      ]
     },
     "execution_count": 8,
     "metadata": {},
     "output_type": "execute_result"
    }
   ],
   "source": [
    "a=\"OAOAOAOA\"\n",
    "a[0::2]"
   ]
  },
  {
   "cell_type": "code",
   "execution_count": 13,
   "id": "6015ed6d",
   "metadata": {},
   "outputs": [
    {
     "name": "stdout",
     "output_type": "stream",
     "text": [
      "6\n"
     ]
    }
   ],
   "source": [
    "a=\"Edyoda\"\n",
    "count=0\n",
    "for i in a:\n",
    "    count+=1\n",
    "print(count)"
   ]
  },
  {
   "cell_type": "code",
   "execution_count": 18,
   "id": "3dddea59",
   "metadata": {},
   "outputs": [
    {
     "name": "stdout",
     "output_type": "stream",
     "text": [
      "O O O O "
     ]
    }
   ],
   "source": [
    "a=\"OAOAOAOA\"\n",
    "for i in a:\n",
    "    if i==\"O\":\n",
    "        print(\"O\",end=' ')\n",
    "    else:\n",
    "        continue"
   ]
  },
  {
   "cell_type": "code",
   "execution_count": 16,
   "id": "0b19f313",
   "metadata": {},
   "outputs": [
    {
     "name": "stdout",
     "output_type": "stream",
     "text": [
      "enter string you want to checkIs it you china?\n",
      "True\n"
     ]
    }
   ],
   "source": [
    "b=input(\"enter string you want to check\")\n",
    "b=b.lower()\n",
    "if \"china\" in b:\n",
    "    print(True)\n",
    "else:\n",
    "    print(False)"
   ]
  },
  {
   "cell_type": "code",
   "execution_count": 22,
   "id": "901731ef",
   "metadata": {},
   "outputs": [
    {
     "name": "stdout",
     "output_type": "stream",
     "text": [
      "enter stringarman\n",
      "5\n"
     ]
    }
   ],
   "source": [
    "a=input(\"enter string\")\n",
    "count=0\n",
    "l=a[-1]\n",
    "while count< a.index(l)+1:\n",
    "    count+=1\n",
    "print(count)"
   ]
  },
  {
   "cell_type": "code",
   "execution_count": 21,
   "id": "6829705b",
   "metadata": {},
   "outputs": [
    {
     "name": "stdout",
     "output_type": "stream",
     "text": [
      "arman\n",
      "5\n"
     ]
    }
   ],
   "source": [
    "name = input()\n",
    "count = 0\n",
    "l = name[-1]\n",
    "while count<name.index(l)+1:\n",
    "    count+=1\n",
    "print(count)"
   ]
  },
  {
   "cell_type": "code",
   "execution_count": 23,
   "id": "e33411dc",
   "metadata": {},
   "outputs": [],
   "source": [
    "c=name.index(name[-1])+1"
   ]
  },
  {
   "cell_type": "code",
   "execution_count": 24,
   "id": "c15b920c",
   "metadata": {},
   "outputs": [
    {
     "name": "stdout",
     "output_type": "stream",
     "text": [
      "5\n"
     ]
    }
   ],
   "source": [
    "print(c)"
   ]
  },
  {
   "cell_type": "code",
   "execution_count": 35,
   "id": "ad9f7375",
   "metadata": {},
   "outputs": [
    {
     "name": "stdout",
     "output_type": "stream",
     "text": [
      "enter stringchina is it\n",
      "True\n"
     ]
    }
   ],
   "source": [
    "a=input(\"enter string\")\n",
    "b=a.split(\" \")\n",
    "for i in b:\n",
    "    if i==\"china\":\n",
    "        e=True\n",
    "        break\n",
    "    else:\n",
    "        e=False\n",
    "print(e)"
   ]
  },
  {
   "cell_type": "code",
   "execution_count": 37,
   "id": "7511ddb6",
   "metadata": {},
   "outputs": [
    {
     "name": "stdout",
     "output_type": "stream",
     "text": [
      "China not present in: Who is responsible for this great year 2020?\n",
      "Yes china is present\n"
     ]
    }
   ],
   "source": [
    "a = \"Who is responsible for this great year 2020?\"\n",
    "b = \"Is it you China?\"\n",
    "for i in a,b:\n",
    "    if \"china\" in i.lower():\n",
    "        print(\"Yes china is present\")\n",
    "    else:\n",
    "        print(f\"China not present in: {i}\")\n",
    "        "
   ]
  },
  {
   "cell_type": "code",
   "execution_count": 41,
   "id": "4e305134",
   "metadata": {},
   "outputs": [
    {
     "name": "stdout",
     "output_type": "stream",
     "text": [
      "97 98\n"
     ]
    }
   ],
   "source": [
    "print(ord(\"a\"),ord(\"b\"))\n"
   ]
  },
  {
   "cell_type": "code",
   "execution_count": 43,
   "id": "c72b0af2",
   "metadata": {},
   "outputs": [
    {
     "name": "stdout",
     "output_type": "stream",
     "text": [
      "a:97-z:122,A:65-Z:90\n"
     ]
    }
   ],
   "source": [
    "print(f\"a:{ord('a')}-z:{ord('z')},A:{ord('A')}-Z:{ord('Z')}\")"
   ]
  },
  {
   "cell_type": "code",
   "execution_count": 44,
   "id": "066f9e61",
   "metadata": {},
   "outputs": [
    {
     "name": "stdout",
     "output_type": "stream",
     "text": [
      "a\n"
     ]
    }
   ],
   "source": [
    "print(chr(97))"
   ]
  },
  {
   "cell_type": "code",
   "execution_count": 45,
   "id": "535e33c6",
   "metadata": {},
   "outputs": [
    {
     "name": "stdout",
     "output_type": "stream",
     "text": [
      "97:a-98:b\n"
     ]
    }
   ],
   "source": [
    "print(f\"97:{chr(97)}-98:{chr(98)}\")"
   ]
  },
  {
   "cell_type": "code",
   "execution_count": 51,
   "id": "03bc4549",
   "metadata": {},
   "outputs": [
    {
     "data": {
      "text/plain": [
       "65"
      ]
     },
     "execution_count": 51,
     "metadata": {},
     "output_type": "execute_result"
    }
   ],
   "source": [
    "ord(\"A\")"
   ]
  },
  {
   "cell_type": "code",
   "execution_count": 47,
   "id": "37168e05",
   "metadata": {},
   "outputs": [
    {
     "data": {
      "text/plain": [
       "98"
      ]
     },
     "execution_count": 47,
     "metadata": {},
     "output_type": "execute_result"
    }
   ],
   "source": [
    "ord(\"b\")"
   ]
  },
  {
   "cell_type": "code",
   "execution_count": 50,
   "id": "c8fdf488",
   "metadata": {},
   "outputs": [
    {
     "data": {
      "text/plain": [
       "90"
      ]
     },
     "execution_count": 50,
     "metadata": {},
     "output_type": "execute_result"
    }
   ],
   "source": [
    "ord(\"Z\")"
   ]
  },
  {
   "cell_type": "code",
   "execution_count": 52,
   "id": "acfad300",
   "metadata": {},
   "outputs": [
    {
     "name": "stdout",
     "output_type": "stream",
     "text": [
      "A\n",
      "B\n",
      "C\n",
      "D\n",
      "E\n",
      "F\n",
      "G\n",
      "H\n",
      "I\n",
      "J\n",
      "K\n",
      "L\n",
      "M\n",
      "N\n",
      "O\n",
      "P\n",
      "Q\n",
      "R\n",
      "S\n",
      "T\n",
      "U\n",
      "V\n",
      "W\n",
      "X\n",
      "Y\n",
      "Z\n"
     ]
    }
   ],
   "source": [
    "for i in range(65,91):\n",
    "    print(chr(i))"
   ]
  },
  {
   "cell_type": "code",
   "execution_count": 57,
   "id": "88cf4d7d",
   "metadata": {},
   "outputs": [
    {
     "name": "stdout",
     "output_type": "stream",
     "text": [
      "A B C D E F G H I J K L M N O P Q R S T U V W X Y Z "
     ]
    }
   ],
   "source": [
    "for i in range(ord(\"A\"),ord(\"Z\")+1):\n",
    "    print(chr(i),end=\" \")"
   ]
  },
  {
   "cell_type": "code",
   "execution_count": 60,
   "id": "88b20b9b",
   "metadata": {},
   "outputs": [
    {
     "name": "stdout",
     "output_type": "stream",
     "text": [
      "['M', 'N', 'O', 'P', 'Q', 'R', 'S', 'T', 'U', 'V', 'W', 'X', 'Y', 'Z']\n"
     ]
    }
   ],
   "source": [
    "l=[]\n",
    "for i in range(ord(\"M\"),ord(\"Z\")+1):\n",
    "    l.append(chr(i))\n",
    "print(l)"
   ]
  },
  {
   "cell_type": "markdown",
   "id": "adad3c94",
   "metadata": {},
   "source": [
    "Q2)find out the largest and smallest word in the string \"The Surprising Benefits of Sarcasm\".\n",
    "Intuition: How can we split the words such that we can count their length and compare with each other?\n",
    "Pseudocode:\n",
    "1.)Take maxx as -inf, and minn as +inf\n",
    "2.)convert the string into a list using split() function\n",
    "3.)loop/iterate through the list and find the maximum length word by using len() function.\n",
    "Similarly the minimum\n"
   ]
  },
  {
   "cell_type": "code",
   "execution_count": 89,
   "id": "3b90c3c4",
   "metadata": {},
   "outputs": [
    {
     "name": "stdout",
     "output_type": "stream",
     "text": [
      "largest in string is: Surprising\n",
      "smallest in string is: of\n"
     ]
    }
   ],
   "source": [
    "a=\"The Surprising Benefits of Sarcasmin this we all let you lnown\"\n",
    "b=a.split(\" \")\n",
    "l=[]\n",
    "for i in range(len(b)):\n",
    "    l.append(len(b[i]))\n",
    "c=max(l)\n",
    "d=l.index(c)\n",
    "print(f\"largest in string is: {b[d]}\")\n",
    "g=min(l)\n",
    "h=l.index(g)\n",
    "print(f\"smallest in string is: {b[h]}\")"
   ]
  },
  {
   "cell_type": "code",
   "execution_count": 90,
   "id": "12582664",
   "metadata": {},
   "outputs": [
    {
     "name": "stdout",
     "output_type": "stream",
     "text": [
      "[3, 10, 8, 2, 7]\n"
     ]
    }
   ],
   "source": [
    "a=\"The Surprising Benefits of Sarcasm\"\n",
    "b=a.split(\" \")\n",
    "l=[]\n",
    "for i in b:\n",
    "    l.append(len(i))\n",
    "print(l)"
   ]
  },
  {
   "cell_type": "code",
   "execution_count": 92,
   "id": "e35285d3",
   "metadata": {},
   "outputs": [
    {
     "name": "stdout",
     "output_type": "stream",
     "text": [
      "Surprising of\n"
     ]
    }
   ],
   "source": [
    "max_str = \"\"\n",
    "min_str = \"\"\n",
    "max_val = 0\n",
    "min_val = float(\"+inf\")\n",
    "for i in b:\n",
    "    if len(i)>max_val:\n",
    "        max_val = len(i)\n",
    "        max_str = i\n",
    "    if len(i)<min_val:\n",
    "        min_val = len(i)\n",
    "        min_str = i\n",
    "print(max_str,min_str)"
   ]
  },
  {
   "cell_type": "code",
   "execution_count": 93,
   "id": "fcfb00b5",
   "metadata": {},
   "outputs": [
    {
     "name": "stdout",
     "output_type": "stream",
     "text": [
      "{} {}\n"
     ]
    }
   ],
   "source": [
    "dict1={}\n",
    "dict2=dict()\n",
    "print(dict1,dict2)"
   ]
  },
  {
   "cell_type": "code",
   "execution_count": 94,
   "id": "e2fa3edf",
   "metadata": {},
   "outputs": [],
   "source": [
    "dict3={\"arman\":98,95:\"kunal\"}"
   ]
  },
  {
   "cell_type": "code",
   "execution_count": 95,
   "id": "c56135a1",
   "metadata": {},
   "outputs": [
    {
     "name": "stdout",
     "output_type": "stream",
     "text": [
      "{'arman': 98, 95: 'kunal'}\n"
     ]
    }
   ],
   "source": [
    "print(dict3)"
   ]
  },
  {
   "cell_type": "code",
   "execution_count": 96,
   "id": "de41facb",
   "metadata": {},
   "outputs": [
    {
     "data": {
      "text/plain": [
       "98"
      ]
     },
     "execution_count": 96,
     "metadata": {},
     "output_type": "execute_result"
    }
   ],
   "source": [
    "dict3['arman']"
   ]
  },
  {
   "cell_type": "code",
   "execution_count": 97,
   "id": "b66b595b",
   "metadata": {},
   "outputs": [
    {
     "data": {
      "text/plain": [
       "'kunal'"
      ]
     },
     "execution_count": 97,
     "metadata": {},
     "output_type": "execute_result"
    }
   ],
   "source": [
    "dict3[95]"
   ]
  },
  {
   "cell_type": "code",
   "execution_count": 98,
   "id": "39d86fd5",
   "metadata": {},
   "outputs": [
    {
     "data": {
      "text/plain": [
       "{'arman': 98, 95: 'Ashish'}"
      ]
     },
     "execution_count": 98,
     "metadata": {},
     "output_type": "execute_result"
    }
   ],
   "source": [
    "dict3[95]=\"Ashish\"\n",
    "dict3"
   ]
  },
  {
   "cell_type": "code",
   "execution_count": 101,
   "id": "430ab4d6",
   "metadata": {},
   "outputs": [],
   "source": [
    "dict4={(1,2,3):\"nono\"}"
   ]
  },
  {
   "cell_type": "code",
   "execution_count": 102,
   "id": "380ecc6c",
   "metadata": {},
   "outputs": [
    {
     "data": {
      "text/plain": [
       "{(1, 2, 3): 'nono'}"
      ]
     },
     "execution_count": 102,
     "metadata": {},
     "output_type": "execute_result"
    }
   ],
   "source": [
    "dict4"
   ]
  },
  {
   "cell_type": "code",
   "execution_count": 103,
   "id": "1b6203d2",
   "metadata": {},
   "outputs": [
    {
     "data": {
      "text/plain": [
       "'nono'"
      ]
     },
     "execution_count": 103,
     "metadata": {},
     "output_type": "execute_result"
    }
   ],
   "source": [
    "dict4[(1,2,3)]"
   ]
  },
  {
   "cell_type": "code",
   "execution_count": 104,
   "id": "03ace4d3",
   "metadata": {},
   "outputs": [
    {
     "data": {
      "text/plain": [
       "'nono'"
      ]
     },
     "execution_count": 104,
     "metadata": {},
     "output_type": "execute_result"
    }
   ],
   "source": [
    "dict4.get((1,2,3))"
   ]
  },
  {
   "cell_type": "code",
   "execution_count": 109,
   "id": "fbf48b31",
   "metadata": {},
   "outputs": [
    {
     "name": "stdout",
     "output_type": "stream",
     "text": [
      "None\n"
     ]
    }
   ],
   "source": [
    "\n",
    "print(dict4.get(\"noo\"))"
   ]
  },
  {
   "cell_type": "code",
   "execution_count": null,
   "id": "24f81c24",
   "metadata": {},
   "outputs": [],
   "source": []
  }
 ],
 "metadata": {
  "kernelspec": {
   "display_name": "Python 3 (ipykernel)",
   "language": "python",
   "name": "python3"
  },
  "language_info": {
   "codemirror_mode": {
    "name": "ipython",
    "version": 3
   },
   "file_extension": ".py",
   "mimetype": "text/x-python",
   "name": "python",
   "nbconvert_exporter": "python",
   "pygments_lexer": "ipython3",
   "version": "3.10.2"
  }
 },
 "nbformat": 4,
 "nbformat_minor": 5
}
