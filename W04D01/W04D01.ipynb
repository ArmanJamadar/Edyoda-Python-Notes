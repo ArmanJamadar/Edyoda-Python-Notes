{
 "cells": [
  {
   "cell_type": "code",
   "execution_count": 2,
   "id": "4c4313fc",
   "metadata": {},
   "outputs": [
    {
     "name": "stdout",
     "output_type": "stream",
     "text": [
      "7\n"
     ]
    }
   ],
   "source": [
    "a=[1,5,4,7,6,78]\n",
    "b=max(a)\n",
    "a.remove(b)\n",
    "c=max(a)\n",
    "print(c)"
   ]
  },
  {
   "cell_type": "code",
   "execution_count": 21,
   "id": "b23893db",
   "metadata": {},
   "outputs": [
    {
     "name": "stdout",
     "output_type": "stream",
     "text": [
      "{'c', 'f', 'a', 'r', 'q'}\n",
      "a\n",
      "c\n",
      "c\n",
      "c\n",
      "c\n",
      "c\n",
      "r\n",
      "f\n",
      "f\n",
      "f\n",
      "f\n",
      "f\n",
      "r\n",
      "a\n",
      "a\n",
      "a\n",
      "a\n",
      "a\n",
      "c\n",
      "r\n",
      "r\n",
      "r\n",
      "r\n",
      "r\n",
      "a\n",
      "q\n",
      "q\n",
      "q\n",
      "q\n",
      "q\n",
      "a\n"
     ]
    },
    {
     "ename": "IndexError",
     "evalue": "list index out of range",
     "output_type": "error",
     "traceback": [
      "\u001b[0;31m---------------------------------------------------------------------------\u001b[0m",
      "\u001b[0;31mIndexError\u001b[0m                                Traceback (most recent call last)",
      "Input \u001b[0;32mIn [21]\u001b[0m, in \u001b[0;36m<cell line: 12>\u001b[0;34m()\u001b[0m\n\u001b[1;32m     13\u001b[0m \u001b[38;5;28mprint\u001b[39m(s[i])\n\u001b[1;32m     14\u001b[0m \u001b[38;5;28;01mfor\u001b[39;00m j \u001b[38;5;129;01min\u001b[39;00m \u001b[38;5;28mrange\u001b[39m(\u001b[38;5;28mlen\u001b[39m(b)):\n\u001b[0;32m---> 15\u001b[0m     \u001b[38;5;28mprint\u001b[39m(\u001b[43mb\u001b[49m\u001b[43m[\u001b[49m\u001b[43mi\u001b[49m\u001b[43m]\u001b[49m)\n",
      "\u001b[0;31mIndexError\u001b[0m: list index out of range"
     ]
    }
   ],
   "source": [
    "s = \"arrcaaaaccffffqqqqqqqqqqqqqqqqqqqqq\"\n",
    "a=set()\n",
    "\n",
    "for i in s:\n",
    "    if i in a:\n",
    "        continue\n",
    "    else:\n",
    "        a.add(i)\n",
    "print(a)\n",
    "l={}\n",
    "b=list(a)\n",
    "for i in range(len(s)):\n",
    "    print(s[i])\n",
    "    for j in range(len(b)):\n",
    "        print(b[i])\n",
    "    \n",
    "    \n",
    "\n",
    "        \n",
    "\n",
    "\n"
   ]
  },
  {
   "cell_type": "code",
   "execution_count": 22,
   "id": "0edeb9b7",
   "metadata": {},
   "outputs": [],
   "source": [
    "l=[1,2,3,\"bachan pandey\",\"RRR\",\"83\",\"pushpa\"]"
   ]
  },
  {
   "cell_type": "code",
   "execution_count": 23,
   "id": "c769af7c",
   "metadata": {},
   "outputs": [
    {
     "name": "stdout",
     "output_type": "stream",
     "text": [
      "7\n"
     ]
    }
   ],
   "source": [
    "a=len(l)\n",
    "print(a)"
   ]
  },
  {
   "cell_type": "code",
   "execution_count": 24,
   "id": "43c2021a",
   "metadata": {},
   "outputs": [
    {
     "name": "stdout",
     "output_type": "stream",
     "text": [
      "7\n"
     ]
    }
   ],
   "source": [
    "count=0\n",
    "while count<len(l):\n",
    "    count+=1\n",
    "print(count)"
   ]
  },
  {
   "cell_type": "code",
   "execution_count": 25,
   "id": "35326fb1",
   "metadata": {},
   "outputs": [],
   "source": [
    "#how to make function manually"
   ]
  },
  {
   "cell_type": "code",
   "execution_count": null,
   "id": "35d82456",
   "metadata": {},
   "outputs": [],
   "source": [
    "#Syntax\n",
    "def name_of_function(parameters):\n",
    "    '''This Function is going to count the len of objects'''\n",
    "    #statements"
   ]
  },
  {
   "cell_type": "code",
   "execution_count": 27,
   "id": "5aec45e1",
   "metadata": {},
   "outputs": [],
   "source": [
    "def countlen(var):\n",
    "    '''this function counts the len of objects and iterable'''\n",
    "    count=0\n",
    "    for i in var:\n",
    "        count+=1\n",
    "    return count"
   ]
  },
  {
   "cell_type": "code",
   "execution_count": 29,
   "id": "7529383d",
   "metadata": {},
   "outputs": [
    {
     "name": "stdout",
     "output_type": "stream",
     "text": [
      "7\n"
     ]
    }
   ],
   "source": [
    "countlen(l) #function calling"
   ]
  },
  {
   "cell_type": "code",
   "execution_count": 32,
   "id": "e31fe51e",
   "metadata": {},
   "outputs": [],
   "source": [
    "def addd(val,var):\n",
    "    x=val+var\n",
    "    return x"
   ]
  },
  {
   "cell_type": "code",
   "execution_count": 33,
   "id": "6afe5f81",
   "metadata": {},
   "outputs": [
    {
     "data": {
      "text/plain": [
       "3"
      ]
     },
     "execution_count": 33,
     "metadata": {},
     "output_type": "execute_result"
    }
   ],
   "source": [
    "addd(1,2)"
   ]
  },
  {
   "cell_type": "code",
   "execution_count": 34,
   "id": "5cad1ae8",
   "metadata": {},
   "outputs": [
    {
     "name": "stdout",
     "output_type": "stream",
     "text": [
      "3\n"
     ]
    }
   ],
   "source": [
    "print(addd(1,2))"
   ]
  },
  {
   "cell_type": "code",
   "execution_count": 36,
   "id": "84d6faa2",
   "metadata": {},
   "outputs": [
    {
     "data": {
      "text/plain": [
       "'mona kunal'"
      ]
     },
     "execution_count": 36,
     "metadata": {},
     "output_type": "execute_result"
    }
   ],
   "source": [
    "addd(\"mona\",\" kunal\")"
   ]
  },
  {
   "cell_type": "code",
   "execution_count": 37,
   "id": "363afa70",
   "metadata": {},
   "outputs": [],
   "source": [
    "def func():\n",
    "    print(\"ganesh\")"
   ]
  },
  {
   "cell_type": "code",
   "execution_count": 38,
   "id": "2d94c78a",
   "metadata": {},
   "outputs": [
    {
     "name": "stdout",
     "output_type": "stream",
     "text": [
      "ganesh\n",
      "None\n"
     ]
    }
   ],
   "source": [
    "print(func())"
   ]
  },
  {
   "cell_type": "code",
   "execution_count": 39,
   "id": "080796bc",
   "metadata": {},
   "outputs": [
    {
     "name": "stdout",
     "output_type": "stream",
     "text": [
      "ganesh\n"
     ]
    }
   ],
   "source": [
    "func()"
   ]
  },
  {
   "cell_type": "code",
   "execution_count": 40,
   "id": "18183d3c",
   "metadata": {},
   "outputs": [],
   "source": [
    "#none is the default return type of functions"
   ]
  },
  {
   "cell_type": "code",
   "execution_count": 43,
   "id": "9940fe72",
   "metadata": {},
   "outputs": [],
   "source": [
    "def efun():\n",
    "    '''nothing in it'''\n"
   ]
  },
  {
   "cell_type": "code",
   "execution_count": 44,
   "id": "7445a662",
   "metadata": {},
   "outputs": [
    {
     "name": "stdout",
     "output_type": "stream",
     "text": [
      "None\n"
     ]
    }
   ],
   "source": [
    "print(efun())"
   ]
  },
  {
   "cell_type": "code",
   "execution_count": 54,
   "id": "c767fc7d",
   "metadata": {},
   "outputs": [],
   "source": [
    "def evenodd(var):\n",
    "    if var%2==0:\n",
    "        return \"even\"\n",
    "    else:\n",
    "        return \"odd\"\n"
   ]
  },
  {
   "cell_type": "code",
   "execution_count": 56,
   "id": "e24f4c2c",
   "metadata": {},
   "outputs": [
    {
     "name": "stdout",
     "output_type": "stream",
     "text": [
      "even\n"
     ]
    }
   ],
   "source": [
    "print(evenodd(12))"
   ]
  },
  {
   "cell_type": "code",
   "execution_count": 75,
   "id": "380d0b57",
   "metadata": {},
   "outputs": [],
   "source": [
    "def max(par):\n",
    "    a=list(par)\n",
    "    for i in a:\n",
    "        a.sort\n",
    "        return \"Maximum value =\"+str(a[-1])\n",
    "    \n",
    "    "
   ]
  },
  {
   "cell_type": "code",
   "execution_count": 76,
   "id": "3aa98042",
   "metadata": {},
   "outputs": [
    {
     "name": "stdout",
     "output_type": "stream",
     "text": [
      "Maximum value =4\n"
     ]
    }
   ],
   "source": [
    "print(max([1,2,3,4]))"
   ]
  },
  {
   "cell_type": "code",
   "execution_count": null,
   "id": "31cc29fe",
   "metadata": {},
   "outputs": [],
   "source": []
  }
 ],
 "metadata": {
  "kernelspec": {
   "display_name": "Python 3 (ipykernel)",
   "language": "python",
   "name": "python3"
  },
  "language_info": {
   "codemirror_mode": {
    "name": "ipython",
    "version": 3
   },
   "file_extension": ".py",
   "mimetype": "text/x-python",
   "name": "python",
   "nbconvert_exporter": "python",
   "pygments_lexer": "ipython3",
   "version": "3.10.2"
  }
 },
 "nbformat": 4,
 "nbformat_minor": 5
}
