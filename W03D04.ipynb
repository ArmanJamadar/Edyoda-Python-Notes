{
 "cells": [
  {
   "cell_type": "markdown",
   "id": "bf396096",
   "metadata": {},
   "source": [
    "# DICTIONARIES\n"
   ]
  },
  {
   "cell_type": "code",
   "execution_count": 2,
   "id": "034b9d84",
   "metadata": {},
   "outputs": [],
   "source": [
    "g=float(\"inf\")\n",
    "# its infinity"
   ]
  },
  {
   "cell_type": "code",
   "execution_count": 3,
   "id": "c7dccfeb",
   "metadata": {},
   "outputs": [
    {
     "data": {
      "text/plain": [
       "True"
      ]
     },
     "execution_count": 3,
     "metadata": {},
     "output_type": "execute_result"
    }
   ],
   "source": [
    "g>100"
   ]
  },
  {
   "cell_type": "code",
   "execution_count": 8,
   "id": "710c4937",
   "metadata": {},
   "outputs": [],
   "source": [
    "l=float(\"-inf\")\n",
    "#negative infinity"
   ]
  },
  {
   "cell_type": "code",
   "execution_count": 5,
   "id": "04326ed5",
   "metadata": {},
   "outputs": [
    {
     "data": {
      "text/plain": [
       "False"
      ]
     },
     "execution_count": 5,
     "metadata": {},
     "output_type": "execute_result"
    }
   ],
   "source": [
    "l>100"
   ]
  },
  {
   "cell_type": "code",
   "execution_count": 6,
   "id": "ec9107d4",
   "metadata": {},
   "outputs": [
    {
     "data": {
      "text/plain": [
       "False"
      ]
     },
     "execution_count": 6,
     "metadata": {},
     "output_type": "execute_result"
    }
   ],
   "source": [
    "100>g"
   ]
  },
  {
   "cell_type": "code",
   "execution_count": 7,
   "id": "8ebc8303",
   "metadata": {},
   "outputs": [
    {
     "data": {
      "text/plain": [
       "False"
      ]
     },
     "execution_count": 7,
     "metadata": {},
     "output_type": "execute_result"
    }
   ],
   "source": [
    "-1>g"
   ]
  },
  {
   "cell_type": "code",
   "execution_count": 10,
   "id": "8cf50ca4",
   "metadata": {},
   "outputs": [],
   "source": [
    "dict1={\"student_name\":\"Arman\",\"Age\":22,\"Location\":\"Pune\",24:12,\"30\":\"15\",(1,):False,True:2+3j,854:[1,2,3,42,3]}"
   ]
  },
  {
   "cell_type": "code",
   "execution_count": 12,
   "id": "45f0c8f9",
   "metadata": {},
   "outputs": [
    {
     "data": {
      "text/plain": [
       "dict['student_name']"
      ]
     },
     "execution_count": 12,
     "metadata": {},
     "output_type": "execute_result"
    }
   ],
   "source": [
    "dict1[True]\n",
    "dict[\"student_name\"]"
   ]
  },
  {
   "cell_type": "code",
   "execution_count": 19,
   "id": "9c085124",
   "metadata": {},
   "outputs": [
    {
     "name": "stdout",
     "output_type": "stream",
     "text": [
      "12\n",
      "False\n",
      "(2+3j)\n"
     ]
    }
   ],
   "source": [
    "print(dict1[24])\n",
    "print(dict1[(1,)])\n",
    "print(dict1[True])\n"
   ]
  },
  {
   "cell_type": "code",
   "execution_count": 20,
   "id": "3c0155af",
   "metadata": {},
   "outputs": [
    {
     "ename": "KeyError",
     "evalue": "'Talib'",
     "output_type": "error",
     "traceback": [
      "\u001b[0;31m---------------------------------------------------------------------------\u001b[0m",
      "\u001b[0;31mKeyError\u001b[0m                                  Traceback (most recent call last)",
      "Input \u001b[0;32mIn [20]\u001b[0m, in \u001b[0;36m<cell line: 1>\u001b[0;34m()\u001b[0m\n\u001b[0;32m----> 1\u001b[0m \u001b[38;5;28mprint\u001b[39m(\u001b[43mdict1\u001b[49m\u001b[43m[\u001b[49m\u001b[38;5;124;43m\"\u001b[39;49m\u001b[38;5;124;43mTalib\u001b[39;49m\u001b[38;5;124;43m\"\u001b[39;49m\u001b[43m]\u001b[49m)\n",
      "\u001b[0;31mKeyError\u001b[0m: 'Talib'"
     ]
    }
   ],
   "source": [
    "print(dict1[\"Talib\"])"
   ]
  },
  {
   "cell_type": "code",
   "execution_count": 22,
   "id": "4a7b1a51",
   "metadata": {},
   "outputs": [
    {
     "name": "stdout",
     "output_type": "stream",
     "text": [
      "None\n"
     ]
    }
   ],
   "source": [
    "print(dict1.get(\"Ta;libv\"))"
   ]
  },
  {
   "cell_type": "markdown",
   "id": "a6e7bffd",
   "metadata": {},
   "source": [
    "# Add Element in Dictionary"
   ]
  },
  {
   "cell_type": "code",
   "execution_count": 23,
   "id": "3696def1",
   "metadata": {},
   "outputs": [],
   "source": [
    "d={\"Address\":\"Bengaluru\"}"
   ]
  },
  {
   "cell_type": "code",
   "execution_count": 24,
   "id": "790f133d",
   "metadata": {},
   "outputs": [],
   "source": [
    "d[\"Country\"]=\"India\""
   ]
  },
  {
   "cell_type": "code",
   "execution_count": 25,
   "id": "cdc5dcce",
   "metadata": {},
   "outputs": [
    {
     "data": {
      "text/plain": [
       "{'Address': 'Bengaluru', 'Country': 'India'}"
      ]
     },
     "execution_count": 25,
     "metadata": {},
     "output_type": "execute_result"
    }
   ],
   "source": [
    "d"
   ]
  },
  {
   "cell_type": "code",
   "execution_count": 26,
   "id": "f8dee70d",
   "metadata": {},
   "outputs": [],
   "source": [
    "d['country']=\"Bharat\""
   ]
  },
  {
   "cell_type": "code",
   "execution_count": 27,
   "id": "76895285",
   "metadata": {},
   "outputs": [
    {
     "data": {
      "text/plain": [
       "{'Address': 'Bengaluru', 'Country': 'India', 'country': 'Bharat'}"
      ]
     },
     "execution_count": 27,
     "metadata": {},
     "output_type": "execute_result"
    }
   ],
   "source": [
    "d"
   ]
  },
  {
   "cell_type": "code",
   "execution_count": 28,
   "id": "607f380b",
   "metadata": {},
   "outputs": [],
   "source": [
    "t=(23,\"meeraj\")"
   ]
  },
  {
   "cell_type": "code",
   "execution_count": 29,
   "id": "882bcc24",
   "metadata": {},
   "outputs": [],
   "source": [
    "d[t]=\"some \""
   ]
  },
  {
   "cell_type": "code",
   "execution_count": 30,
   "id": "155bdcbd",
   "metadata": {},
   "outputs": [
    {
     "data": {
      "text/plain": [
       "{'Address': 'Bengaluru',\n",
       " 'Country': 'India',\n",
       " 'country': 'Bharat',\n",
       " (23, 'meeraj'): 'some '}"
      ]
     },
     "execution_count": 30,
     "metadata": {},
     "output_type": "execute_result"
    }
   ],
   "source": [
    "d"
   ]
  },
  {
   "cell_type": "code",
   "execution_count": 33,
   "id": "dd389074",
   "metadata": {},
   "outputs": [],
   "source": [
    "#update values\n",
    "d['country']=\"Hindustan\""
   ]
  },
  {
   "cell_type": "code",
   "execution_count": 32,
   "id": "362adc06",
   "metadata": {},
   "outputs": [
    {
     "data": {
      "text/plain": [
       "{'Address': 'Bengaluru',\n",
       " 'Country': 'India',\n",
       " 'country': 'Hindustan',\n",
       " (23, 'meeraj'): 'some '}"
      ]
     },
     "execution_count": 32,
     "metadata": {},
     "output_type": "execute_result"
    }
   ],
   "source": [
    "d\n"
   ]
  },
  {
   "cell_type": "markdown",
   "id": "85067cf7",
   "metadata": {},
   "source": [
    "# Delete Operations on Dictionary"
   ]
  },
  {
   "cell_type": "code",
   "execution_count": 34,
   "id": "65a0107f",
   "metadata": {},
   "outputs": [
    {
     "data": {
      "text/plain": [
       "{'Address': 'Bengaluru',\n",
       " 'Country': 'India',\n",
       " 'country': 'Hindustan',\n",
       " (23, 'meeraj'): 'some '}"
      ]
     },
     "execution_count": 34,
     "metadata": {},
     "output_type": "execute_result"
    }
   ],
   "source": [
    "d"
   ]
  },
  {
   "cell_type": "code",
   "execution_count": 35,
   "id": "336f925f",
   "metadata": {},
   "outputs": [
    {
     "data": {
      "text/plain": [
       "'Bengaluru'"
      ]
     },
     "execution_count": 35,
     "metadata": {},
     "output_type": "execute_result"
    }
   ],
   "source": [
    "d.pop('Address')"
   ]
  },
  {
   "cell_type": "code",
   "execution_count": 36,
   "id": "9e2da0ef",
   "metadata": {},
   "outputs": [
    {
     "data": {
      "text/plain": [
       "{'Country': 'India', 'country': 'Hindustan', (23, 'meeraj'): 'some '}"
      ]
     },
     "execution_count": 36,
     "metadata": {},
     "output_type": "execute_result"
    }
   ],
   "source": [
    "d"
   ]
  },
  {
   "cell_type": "code",
   "execution_count": 37,
   "id": "2d72e45c",
   "metadata": {},
   "outputs": [
    {
     "data": {
      "text/plain": [
       "{}"
      ]
     },
     "execution_count": 37,
     "metadata": {},
     "output_type": "execute_result"
    }
   ],
   "source": [
    "d.clear()\n",
    "d"
   ]
  },
  {
   "cell_type": "code",
   "execution_count": 38,
   "id": "81b26a36",
   "metadata": {},
   "outputs": [],
   "source": [
    "d2={\"Mango\":\"Green\",\"Apple\":\"Red\",\"Banana\":\"Yellow\",\"Banana\":\"Green\",\"lichi\":\"Red\"}"
   ]
  },
  {
   "cell_type": "code",
   "execution_count": 39,
   "id": "698af04d",
   "metadata": {},
   "outputs": [
    {
     "data": {
      "text/plain": [
       "{'Mango': 'Green', 'Apple': 'Red', 'Banana': 'Green', 'lichi': 'Red'}"
      ]
     },
     "execution_count": 39,
     "metadata": {},
     "output_type": "execute_result"
    }
   ],
   "source": [
    "d2"
   ]
  },
  {
   "cell_type": "code",
   "execution_count": 40,
   "id": "e507c30d",
   "metadata": {},
   "outputs": [
    {
     "data": {
      "text/plain": [
       "dict_keys(['Mango', 'Apple', 'Banana', 'lichi'])"
      ]
     },
     "execution_count": 40,
     "metadata": {},
     "output_type": "execute_result"
    }
   ],
   "source": [
    "d2.keys()"
   ]
  },
  {
   "cell_type": "code",
   "execution_count": 41,
   "id": "f8a180a2",
   "metadata": {},
   "outputs": [
    {
     "data": {
      "text/plain": [
       "dict_keys"
      ]
     },
     "execution_count": 41,
     "metadata": {},
     "output_type": "execute_result"
    }
   ],
   "source": [
    "type(d2.keys())"
   ]
  },
  {
   "cell_type": "code",
   "execution_count": 43,
   "id": "e0c09c55",
   "metadata": {},
   "outputs": [
    {
     "name": "stdout",
     "output_type": "stream",
     "text": [
      "Mango Green\n",
      "Apple Red\n",
      "Banana Green\n",
      "lichi Red\n"
     ]
    }
   ],
   "source": [
    "for i in d2.keys():\n",
    "    print(i,d2[i])"
   ]
  },
  {
   "cell_type": "code",
   "execution_count": 44,
   "id": "5d73c9bb",
   "metadata": {},
   "outputs": [
    {
     "data": {
      "text/plain": [
       "dict_values(['Green', 'Red', 'Green', 'Red'])"
      ]
     },
     "execution_count": 44,
     "metadata": {},
     "output_type": "execute_result"
    }
   ],
   "source": [
    "d2.values()"
   ]
  },
  {
   "cell_type": "code",
   "execution_count": 45,
   "id": "99319a75",
   "metadata": {},
   "outputs": [
    {
     "name": "stdout",
     "output_type": "stream",
     "text": [
      "Green\n",
      "Red\n",
      "Green\n",
      "Red\n"
     ]
    }
   ],
   "source": [
    "for i in d2.values():\n",
    "    print(i)"
   ]
  },
  {
   "cell_type": "code",
   "execution_count": 47,
   "id": "51b62444",
   "metadata": {},
   "outputs": [],
   "source": [
    "d=dict(amran=\"dmsndf\",ldfhode=\"dkhnasnd\")"
   ]
  },
  {
   "cell_type": "code",
   "execution_count": 48,
   "id": "cc0fe055",
   "metadata": {},
   "outputs": [
    {
     "data": {
      "text/plain": [
       "{'amran': 'dmsndf', 'ldfhode': 'dkhnasnd'}"
      ]
     },
     "execution_count": 48,
     "metadata": {},
     "output_type": "execute_result"
    }
   ],
   "source": [
    "d"
   ]
  },
  {
   "cell_type": "code",
   "execution_count": 49,
   "id": "34949fe5",
   "metadata": {},
   "outputs": [
    {
     "data": {
      "text/plain": [
       "dict_items([('amran', 'dmsndf'), ('ldfhode', 'dkhnasnd')])"
      ]
     },
     "execution_count": 49,
     "metadata": {},
     "output_type": "execute_result"
    }
   ],
   "source": [
    "d.items()"
   ]
  },
  {
   "cell_type": "code",
   "execution_count": 51,
   "id": "d2c4af80",
   "metadata": {},
   "outputs": [
    {
     "name": "stdout",
     "output_type": "stream",
     "text": [
      "('amran', 'dmsndf')\n",
      "('ldfhode', 'dkhnasnd')\n"
     ]
    }
   ],
   "source": [
    "for i in d.items():\n",
    "    print(i)"
   ]
  },
  {
   "cell_type": "code",
   "execution_count": 52,
   "id": "61f240ea",
   "metadata": {},
   "outputs": [
    {
     "ename": "SyntaxError",
     "evalue": "expression cannot contain assignment, perhaps you meant \"==\"? (2053101061.py, line 1)",
     "output_type": "error",
     "traceback": [
      "\u001b[0;36m  Input \u001b[0;32mIn [52]\u001b[0;36m\u001b[0m\n\u001b[0;31m    d2=dict((1,2,3)=\"meghna\")\u001b[0m\n\u001b[0m            ^\u001b[0m\n\u001b[0;31mSyntaxError\u001b[0m\u001b[0;31m:\u001b[0m expression cannot contain assignment, perhaps you meant \"==\"?\n"
     ]
    }
   ],
   "source": [
    "d2=dict((1,2,3)=\"meghna\")"
   ]
  },
  {
   "cell_type": "code",
   "execution_count": 54,
   "id": "3918dfa8",
   "metadata": {},
   "outputs": [
    {
     "data": {
      "text/plain": [
       "{'one': 1, 'two': 2}"
      ]
     },
     "execution_count": 54,
     "metadata": {},
     "output_type": "execute_result"
    }
   ],
   "source": [
    "d3=dict(one=1,two=2) #keys need to be character only\n",
    "d3"
   ]
  },
  {
   "cell_type": "code",
   "execution_count": 57,
   "id": "48b9354e",
   "metadata": {},
   "outputs": [],
   "source": [
    "#Question to print dictionary as keys and values as there squares\n",
    "d={}\n",
    "for i in range(11):\n",
    "    d[i]= i*i"
   ]
  },
  {
   "cell_type": "code",
   "execution_count": 58,
   "id": "0d6625ef",
   "metadata": {},
   "outputs": [
    {
     "name": "stdout",
     "output_type": "stream",
     "text": [
      "{0: 0, 1: 1, 2: 4, 3: 9, 4: 16, 5: 25, 6: 36, 7: 49, 8: 64, 9: 81, 10: 100}\n"
     ]
    }
   ],
   "source": [
    "print(d)"
   ]
  },
  {
   "cell_type": "code",
   "execution_count": 72,
   "id": "122fd301",
   "metadata": {},
   "outputs": [],
   "source": [
    "d1={}\n",
    "for i in range(ord(\"A\"),ord(\"Z\")+1):\n",
    "    d[(chr(i))]=(ord(chr(i)))\n"
   ]
  },
  {
   "cell_type": "code",
   "execution_count": 64,
   "id": "060d100d",
   "metadata": {},
   "outputs": [
    {
     "name": "stdout",
     "output_type": "stream",
     "text": [
      "{0: 0, 1: 1, 2: 4, 3: 9, 4: 16, 5: 25, 6: 36, 7: 49, 8: 64, 9: 81, 10: 100, 'A': 65, 'B': 66, 'C': 67, 'D': 68, 'E': 69, 'F': 70, 'G': 71, 'H': 72, 'I': 73, 'J': 74, 'K': 75, 'L': 76, 'M': 77, 'N': 78, 'O': 79, 'P': 80, 'Q': 81, 'R': 82, 'S': 83, 'T': 84, 'U': 85, 'V': 86, 'W': 87, 'X': 88, 'Y': 89, 'Z': 90}\n"
     ]
    }
   ],
   "source": [
    "print(d)"
   ]
  },
  {
   "cell_type": "code",
   "execution_count": 83,
   "id": "bd6fd7bf",
   "metadata": {},
   "outputs": [
    {
     "name": "stdout",
     "output_type": "stream",
     "text": [
      "{'A': 65, 'B': 66, 'C': 67, 'D': 68, 'E': 69, 'F': 70, 'G': 71, 'H': 72, 'I': 73, 'J': 74, 'K': 75, 'L': 76, 'M': 77, 'N': 78, 'O': 79, 'P': 80, 'Q': 81, 'R': 82, 'S': 83, 'T': 84, 'U': 85, 'V': 86, 'W': 87, 'X': 88, 'Y': 89, 'Z': 90}\n"
     ]
    }
   ],
   "source": [
    "d2={}\n",
    "for i in range(ord(\"A\"),ord(\"Z\")+1):\n",
    "    d2[chr(i)]=i\n",
    "print(d2)"
   ]
  },
  {
   "cell_type": "markdown",
   "id": "f3daaa17",
   "metadata": {},
   "source": [
    "# Set\n",
    "## A set is an unordered collection of items. Every Set element is unique(no duplicates) and must be IMMUTABLE(unchangeble). Our Set itself is MUTABLE"
   ]
  },
  {
   "cell_type": "code",
   "execution_count": 84,
   "id": "2d4974f3",
   "metadata": {},
   "outputs": [
    {
     "name": "stdout",
     "output_type": "stream",
     "text": [
      "<class 'set'>\n"
     ]
    }
   ],
   "source": [
    "s={1,2,4}\n",
    "print(type(s))"
   ]
  },
  {
   "cell_type": "code",
   "execution_count": 85,
   "id": "fd9232cb",
   "metadata": {},
   "outputs": [
    {
     "data": {
      "text/plain": [
       "set"
      ]
     },
     "execution_count": 85,
     "metadata": {},
     "output_type": "execute_result"
    }
   ],
   "source": [
    "s1=set()\n",
    "type(s1)"
   ]
  },
  {
   "cell_type": "code",
   "execution_count": 88,
   "id": "6a467087",
   "metadata": {},
   "outputs": [],
   "source": [
    "s.add(\"arman\")"
   ]
  },
  {
   "cell_type": "code",
   "execution_count": 89,
   "id": "f9ae46a1",
   "metadata": {},
   "outputs": [
    {
     "name": "stdout",
     "output_type": "stream",
     "text": [
      "{1, 2, 4, 'arman'}\n"
     ]
    }
   ],
   "source": [
    "print(s)"
   ]
  },
  {
   "cell_type": "code",
   "execution_count": 92,
   "id": "96271e34",
   "metadata": {},
   "outputs": [
    {
     "name": "stdout",
     "output_type": "stream",
     "text": [
      "arman\n",
      "jhs\n",
      "ss\n",
      "djs\n"
     ]
    }
   ],
   "source": [
    "for i in range(4):\n",
    "    s.add(input())"
   ]
  },
  {
   "cell_type": "code",
   "execution_count": 93,
   "id": "0300b3d2",
   "metadata": {},
   "outputs": [
    {
     "data": {
      "text/plain": [
       "{1, 2, 4, 'arman', 'djs', 'jhs', 'ss'}"
      ]
     },
     "execution_count": 93,
     "metadata": {},
     "output_type": "execute_result"
    }
   ],
   "source": [
    "s"
   ]
  },
  {
   "cell_type": "code",
   "execution_count": 94,
   "id": "52972631",
   "metadata": {},
   "outputs": [],
   "source": [
    "s.update([\"arman\",\"ashds\",\"adshhysh\"])"
   ]
  },
  {
   "cell_type": "code",
   "execution_count": 95,
   "id": "b3d07b08",
   "metadata": {},
   "outputs": [
    {
     "data": {
      "text/plain": [
       "{1, 2, 4, 'adshhysh', 'arman', 'ashds', 'djs', 'jhs', 'ss'}"
      ]
     },
     "execution_count": 95,
     "metadata": {},
     "output_type": "execute_result"
    }
   ],
   "source": [
    "s"
   ]
  },
  {
   "cell_type": "code",
   "execution_count": 96,
   "id": "b8d0bb84",
   "metadata": {},
   "outputs": [
    {
     "name": "stdout",
     "output_type": "stream",
     "text": [
      "{1, 2, 4, 'jhs', 'adshhysh', 'ashds', 'djs', 'ss'}\n"
     ]
    }
   ],
   "source": [
    "s.discard('arman')\n",
    "print(s)"
   ]
  },
  {
   "cell_type": "code",
   "execution_count": 99,
   "id": "18ac6295",
   "metadata": {},
   "outputs": [
    {
     "name": "stdout",
     "output_type": "stream",
     "text": [
      "None\n"
     ]
    }
   ],
   "source": [
    "print(s.discard('arman'))"
   ]
  },
  {
   "cell_type": "code",
   "execution_count": 101,
   "id": "db51c7a5",
   "metadata": {},
   "outputs": [],
   "source": [
    "s.remove((1))"
   ]
  },
  {
   "cell_type": "code",
   "execution_count": 102,
   "id": "b037d2d7",
   "metadata": {},
   "outputs": [
    {
     "data": {
      "text/plain": [
       "{2, 4, 'adshhysh', 'ashds', 'djs', 'jhs', 'ss'}"
      ]
     },
     "execution_count": 102,
     "metadata": {},
     "output_type": "execute_result"
    }
   ],
   "source": [
    "s"
   ]
  },
  {
   "cell_type": "code",
   "execution_count": 103,
   "id": "d4b55277",
   "metadata": {},
   "outputs": [
    {
     "data": {
      "text/plain": [
       "set()"
      ]
     },
     "execution_count": 103,
     "metadata": {},
     "output_type": "execute_result"
    }
   ],
   "source": [
    "s.clear()\n",
    "s"
   ]
  },
  {
   "cell_type": "code",
   "execution_count": 104,
   "id": "9c091a04",
   "metadata": {},
   "outputs": [],
   "source": [
    "s={1,2,4}"
   ]
  },
  {
   "cell_type": "code",
   "execution_count": 105,
   "id": "c3d1f90b",
   "metadata": {},
   "outputs": [
    {
     "data": {
      "text/plain": [
       "{2, 4}"
      ]
     },
     "execution_count": 105,
     "metadata": {},
     "output_type": "execute_result"
    }
   ],
   "source": [
    "s.pop()\n",
    "s"
   ]
  },
  {
   "cell_type": "code",
   "execution_count": null,
   "id": "8987d05c",
   "metadata": {},
   "outputs": [],
   "source": []
  }
 ],
 "metadata": {
  "kernelspec": {
   "display_name": "Python 3 (ipykernel)",
   "language": "python",
   "name": "python3"
  },
  "language_info": {
   "codemirror_mode": {
    "name": "ipython",
    "version": 3
   },
   "file_extension": ".py",
   "mimetype": "text/x-python",
   "name": "python",
   "nbconvert_exporter": "python",
   "pygments_lexer": "ipython3",
   "version": "3.10.2"
  }
 },
 "nbformat": 4,
 "nbformat_minor": 5
}
