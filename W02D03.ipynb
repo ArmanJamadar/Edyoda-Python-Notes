{
 "cells": [
  {
   "cell_type": "code",
   "execution_count": 12,
   "id": "67ea26f3",
   "metadata": {},
   "outputs": [
    {
     "name": "stdout",
     "output_type": "stream",
     "text": [
      "Arman--Riyaj--Jamadar*\n",
      "bright\n"
     ]
    }
   ],
   "source": [
    "print(\"Arman\",\"Riyaj\",\"Jamadar\",sep=\"--\",end=\"*\\n\")\n",
    "print(\"bright\")"
   ]
  },
  {
   "cell_type": "code",
   "execution_count": 14,
   "id": "d31c70e4",
   "metadata": {},
   "outputs": [
    {
     "name": "stdout",
     "output_type": "stream",
     "text": [
      "odd\n"
     ]
    }
   ],
   "source": [
    "a=55\n",
    "if (a%2==0):\n",
    "    print(\"Even\")\n",
    "else:\n",
    "    print(\"odd\")"
   ]
  },
  {
   "cell_type": "code",
   "execution_count": 21,
   "id": "7e70c03e",
   "metadata": {},
   "outputs": [
    {
     "name": "stdout",
     "output_type": "stream",
     "text": [
      "odd\n"
     ]
    }
   ],
   "source": [
    "a=7\n",
    "print(\"even\") if (a%2==0) else print(\"odd\")"
   ]
  },
  {
   "cell_type": "code",
   "execution_count": 22,
   "id": "1b478b65",
   "metadata": {},
   "outputs": [
    {
     "ename": "SyntaxError",
     "evalue": "expected 'else' after 'if' expression (1796827618.py, line 1)",
     "output_type": "error",
     "traceback": [
      "\u001b[0;36m  Input \u001b[0;32mIn [22]\u001b[0;36m\u001b[0m\n\u001b[0;31m    print(\"positive\") if (a>0) elif (a==0) print(\"0\") else print(\"negative\")\u001b[0m\n\u001b[0m    ^\u001b[0m\n\u001b[0;31mSyntaxError\u001b[0m\u001b[0;31m:\u001b[0m expected 'else' after 'if' expression\n"
     ]
    }
   ],
   "source": []
  },
  {
   "cell_type": "code",
   "execution_count": 25,
   "id": "0b6da4a3",
   "metadata": {},
   "outputs": [
    {
     "name": "stdout",
     "output_type": "stream",
     "text": [
      "Enter conditionnot thirsty\n",
      "Save Water\n"
     ]
    }
   ],
   "source": [
    "val=input(\"Enter condition\")\n",
    "if (val==\"Thirsty\"):\n",
    "    print(\"Drink Water\")\n",
    "else:\n",
    "    print(\"Save Water\")"
   ]
  },
  {
   "cell_type": "code",
   "execution_count": 27,
   "id": "d8345a42",
   "metadata": {},
   "outputs": [
    {
     "name": "stdout",
     "output_type": "stream",
     "text": [
      "save\n"
     ]
    }
   ],
   "source": [
    "print(\"Thristy\") if val==\"thirsty\" else print(\"save\")"
   ]
  },
  {
   "cell_type": "code",
   "execution_count": 31,
   "id": "dee782af",
   "metadata": {},
   "outputs": [],
   "source": [
    "val=\"thirsty\"\n",
    "water=\"hello \" if val==\"thirsty\" else \"World!\""
   ]
  },
  {
   "cell_type": "code",
   "execution_count": 32,
   "id": "54565214",
   "metadata": {},
   "outputs": [
    {
     "name": "stdout",
     "output_type": "stream",
     "text": [
      "hello \n"
     ]
    }
   ],
   "source": [
    "print(water)"
   ]
  },
  {
   "cell_type": "code",
   "execution_count": null,
   "id": "516be9d1",
   "metadata": {},
   "outputs": [],
   "source": [
    "and \n",
    "or \n",
    "not"
   ]
  },
  {
   "cell_type": "code",
   "execution_count": 37,
   "id": "c3422d50",
   "metadata": {},
   "outputs": [
    {
     "name": "stdout",
     "output_type": "stream",
     "text": [
      "ok\n"
     ]
    }
   ],
   "source": [
    "l=[\"arman\",\"kunal\",\"sam\"]\n",
    "if \"arman\" and \"kunal\" in l:\n",
    "    print(\"ok\")\n",
    "else:\n",
    "    print(\"not ok\")"
   ]
  },
  {
   "cell_type": "code",
   "execution_count": 39,
   "id": "e0a1f76b",
   "metadata": {},
   "outputs": [
    {
     "name": "stdout",
     "output_type": "stream",
     "text": [
      "['arman', 'kuni', 'sam']\n"
     ]
    }
   ],
   "source": [
    "l[1]=\"kuni\"\n",
    "print(l)"
   ]
  },
  {
   "cell_type": "code",
   "execution_count": 41,
   "id": "c4cb31fa",
   "metadata": {},
   "outputs": [
    {
     "name": "stdout",
     "output_type": "stream",
     "text": [
      "ok\n"
     ]
    }
   ],
   "source": [
    "if \"ganesh\" or \"talib\" in l:\n",
    "    print(\"ok\")\n",
    "else:\n",
    "    print(\"not ok\")"
   ]
  },
  {
   "cell_type": "code",
   "execution_count": 42,
   "id": "61d414a8",
   "metadata": {},
   "outputs": [
    {
     "name": "stdout",
     "output_type": "stream",
     "text": [
      "js\n"
     ]
    }
   ],
   "source": [
    "val=\"\"\n",
    "if val:\n",
    "    print(\"sfd\")\n",
    "else:\n",
    "    print(\"js\")"
   ]
  },
  {
   "cell_type": "markdown",
   "id": "5586d80f",
   "metadata": {},
   "source": [
    "# iterable\n"
   ]
  },
  {
   "cell_type": "code",
   "execution_count": 56,
   "id": "4128a01b",
   "metadata": {},
   "outputs": [],
   "source": [
    "l=[\"apple\",\"mango\",\"pineapple\",\"orange\"]"
   ]
  },
  {
   "cell_type": "code",
   "execution_count": 53,
   "id": "ed7362dd",
   "metadata": {},
   "outputs": [
    {
     "name": "stdout",
     "output_type": "stream",
     "text": [
      "this fruit is apple01\n",
      "this fruit is mango01\n",
      "this fruit is pineapple01\n"
     ]
    }
   ],
   "source": [
    "for i in l:\n",
    "    a=i+\"01\"\n",
    "    print(\"this fruit is\",a)"
   ]
  },
  {
   "cell_type": "code",
   "execution_count": 61,
   "id": "72af5b7c",
   "metadata": {},
   "outputs": [
    {
     "name": "stdout",
     "output_type": "stream",
     "text": [
      "mango\n"
     ]
    }
   ],
   "source": [
    "for i in l:\n",
    "    if \"o\" in i and \"m\" in i:\n",
    "        print(i)\n",
    "    else:\n",
    "        continue"
   ]
  },
  {
   "cell_type": "code",
   "execution_count": 62,
   "id": "fc6934a2",
   "metadata": {},
   "outputs": [
    {
     "name": "stdout",
     "output_type": "stream",
     "text": [
      "range(0, 10)\n"
     ]
    }
   ],
   "source": [
    "print(range(10))"
   ]
  },
  {
   "cell_type": "code",
   "execution_count": 64,
   "id": "c89e0e8f",
   "metadata": {},
   "outputs": [
    {
     "name": "stdout",
     "output_type": "stream",
     "text": [
      "1\n",
      "2\n",
      "3\n",
      "4\n",
      "5\n",
      "6\n",
      "7\n",
      "8\n",
      "9\n",
      "10\n"
     ]
    }
   ],
   "source": [
    "for i in range(1,11):\n",
    "    print(i)"
   ]
  },
  {
   "cell_type": "code",
   "execution_count": null,
   "id": "5db8e0f7",
   "metadata": {},
   "outputs": [],
   "source": []
  }
 ],
 "metadata": {
  "kernelspec": {
   "display_name": "Python 3 (ipykernel)",
   "language": "python",
   "name": "python3"
  },
  "language_info": {
   "codemirror_mode": {
    "name": "ipython",
    "version": 3
   },
   "file_extension": ".py",
   "mimetype": "text/x-python",
   "name": "python",
   "nbconvert_exporter": "python",
   "pygments_lexer": "ipython3",
   "version": "3.10.2"
  }
 },
 "nbformat": 4,
 "nbformat_minor": 5
}
