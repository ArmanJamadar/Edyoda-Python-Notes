{
 "cells": [
  {
   "cell_type": "code",
   "execution_count": 1,
   "id": "047ed423",
   "metadata": {},
   "outputs": [
    {
     "data": {
      "text/plain": [
       "range(0, 4)"
      ]
     },
     "execution_count": 1,
     "metadata": {},
     "output_type": "execute_result"
    }
   ],
   "source": [
    "range(4)"
   ]
  },
  {
   "cell_type": "code",
   "execution_count": 7,
   "id": "a378024c",
   "metadata": {},
   "outputs": [
    {
     "name": "stdout",
     "output_type": "stream",
     "text": [
      "1\n",
      "3\n",
      "5\n",
      "7\n",
      "9\n"
     ]
    }
   ],
   "source": [
    "for i in range(1,11,2):\n",
    "    print(i)"
   ]
  },
  {
   "cell_type": "code",
   "execution_count": 9,
   "id": "074df721",
   "metadata": {},
   "outputs": [
    {
     "name": "stdout",
     "output_type": "stream",
     "text": [
      "0\n",
      "1\n",
      "2\n"
     ]
    }
   ],
   "source": [
    "counter=0\n",
    "for i in range(11):\n",
    "    print(i)\n",
    "    counter+=1\n",
    "    if(counter==3):\n",
    "        break\n",
    "    "
   ]
  },
  {
   "cell_type": "code",
   "execution_count": 17,
   "id": "3e267861",
   "metadata": {},
   "outputs": [
    {
     "name": "stdout",
     "output_type": "stream",
     "text": [
      "0 \n",
      "0\n",
      "0 1 \n",
      "1\n",
      "0 1 2 \n",
      "2\n",
      "0 1 2 3\n",
      "\n",
      "3\n",
      "0 1 2 3\n",
      "\n",
      "3\n",
      "0 1 2 3\n",
      "\n",
      "3\n",
      "0 1 2 3\n",
      "\n",
      "3\n",
      "0 1 2 3\n",
      "\n",
      "3\n",
      "0 1 2 3\n",
      "\n",
      "3\n",
      "0 1 2 3\n",
      "\n",
      "3\n",
      "0 1 2 3\n",
      "\n",
      "3\n"
     ]
    }
   ],
   "source": [
    "for i in range(11):\n",
    "    for j in range(i+1):\n",
    "        if j==3:\n",
    "            print(j)\n",
    "            break\n",
    "        else:\n",
    "            print(j,end=\" \")\n",
    "    print()\n",
    "    print(j)"
   ]
  },
  {
   "cell_type": "code",
   "execution_count": 33,
   "id": "c8163032",
   "metadata": {},
   "outputs": [
    {
     "name": "stdout",
     "output_type": "stream",
     "text": [
      "* \n",
      "* * \n",
      "* * * \n",
      "* * * * \n",
      "* * * * * \n"
     ]
    }
   ],
   "source": [
    "for i in range(5):\n",
    "    for j in range(i+1):\n",
    "        print(\"*\",end=\" \")\n",
    "    print()"
   ]
  },
  {
   "cell_type": "code",
   "execution_count": 28,
   "id": "fc01883a",
   "metadata": {},
   "outputs": [
    {
     "name": "stdout",
     "output_type": "stream",
     "text": [
      "*********************\n",
      "*******************\n",
      "*****************\n",
      "***************\n",
      "*************\n",
      "***********\n",
      "*********\n",
      "*******\n",
      "*****\n",
      "***\n"
     ]
    }
   ],
   "source": [
    "for i in range (10*2,0,-2):\n",
    "    for j in range(i+1):\n",
    "            print(\"*\" ,end=\"\")\n",
    "    print()"
   ]
  },
  {
   "cell_type": "code",
   "execution_count": 42,
   "id": "16b4851c",
   "metadata": {},
   "outputs": [
    {
     "name": "stdout",
     "output_type": "stream",
     "text": [
      "1\n",
      "3\n",
      "5\n",
      "7\n",
      "9\n"
     ]
    }
   ],
   "source": [
    "a=0\n",
    "while (a<=10):\n",
    "    if(a%2!=0):\n",
    "        print(a)\n",
    "    a+=1\n",
    "    "
   ]
  },
  {
   "cell_type": "code",
   "execution_count": 43,
   "id": "fc579e4a",
   "metadata": {},
   "outputs": [
    {
     "name": "stdout",
     "output_type": "stream",
     "text": [
      "10\n",
      "9\n",
      "8\n",
      "7\n",
      "6\n",
      "5\n",
      "4\n",
      "3\n",
      "2\n",
      "1\n"
     ]
    }
   ],
   "source": [
    "count=10\n",
    "while count>0:\n",
    "    print(count)\n",
    "    count-=1\n",
    "    \n",
    "    "
   ]
  },
  {
   "cell_type": "code",
   "execution_count": null,
   "id": "aa2b7fa0",
   "metadata": {},
   "outputs": [],
   "source": [
    "#small undo and redo System\n",
    "cnt=0\n",
    "while True:\n",
    "    s=input(\"Do you Want to start:Y/N\")\n",
    "    if (s==\"Y\"):\n",
    "        choice=input(\"choose pages you want to go forward: F/B\")\n",
    "        if(choice==\"F\"):\n",
    "            cnt+=1\n",
    "            print(\"page is \",cnt)\n",
    "        elif(choice==\"B\"):\n",
    "            cnt-=1\n",
    "            print(\"page is\",cnt)\n",
    "    else:\n",
    "        print(\"exit\")\n",
    "        break"
   ]
  },
  {
   "cell_type": "code",
   "execution_count": null,
   "id": "7b59398d",
   "metadata": {},
   "outputs": [],
   "source": [
    "#small undo and redo System\n",
    "cnt=0\n",
    "while True:\n",
    "    s=input(\"Do you Want to start:Y/N\")\n",
    "    if (s==\"Y\"):\n",
    "        choice=input(\"choose pages you want to go forward: F/B\")\n",
    "        if(choice==\"F\"):\n",
    "            cnt+=1\n",
    "            print(\"page is \",cnt)\n",
    "        elif(choice==\"B\"):\n",
    "            cnt-=1\n",
    "            print(\"page is\",cnt)\n",
    "    else:\n",
    "        print(\"exit\")\n",
    "        break"
   ]
  },
  {
   "cell_type": "code",
   "execution_count": 1,
   "id": "5245e45f",
   "metadata": {},
   "outputs": [
    {
     "name": "stdout",
     "output_type": "stream",
     "text": [
      "Do you Want to start:Y/NY\n",
      "choose pages you want to go forward: F/BF\n",
      "page is  1\n",
      "Do you Want to start:Y/NY\n",
      "choose pages you want to go forward: F/BF\n",
      "page is  2\n",
      "Do you Want to start:Y/NY\n",
      "choose pages you want to go forward: F/BF\n",
      "page is  3\n",
      "Do you Want to start:Y/NY\n",
      "choose pages you want to go forward: F/B\n",
      "choose correct\n",
      "Do you Want to start:Y/NY\n",
      "choose pages you want to go forward: F/BF\n",
      "page is  4\n",
      "Do you Want to start:Y/NN\n",
      "exit\n"
     ]
    }
   ],
   "source": [
    "#small undo and redo System\n",
    "cnt=0\n",
    "while True:\n",
    "    s=input(\"Do you Want to start:Y/N\")\n",
    "    if (s==\"Y\"):\n",
    "        choice=input(\"choose pages you want to go forward: F/B\")\n",
    "        if(choice==\"F\"):\n",
    "            cnt+=1\n",
    "            print(\"page is \",cnt)\n",
    "        elif(choice==\"B\"):\n",
    "            cnt-=1\n",
    "            print(\"page is\",cnt)\n",
    "        else:\n",
    "            print(\"choose correct\")\n",
    "    else:\n",
    "        print(\"exit\")\n",
    "        break"
   ]
  },
  {
   "cell_type": "code",
   "execution_count": null,
   "id": "f5508bd1",
   "metadata": {},
   "outputs": [],
   "source": []
  }
 ],
 "metadata": {
  "kernelspec": {
   "display_name": "Python 3 (ipykernel)",
   "language": "python",
   "name": "python3"
  },
  "language_info": {
   "codemirror_mode": {
    "name": "ipython",
    "version": 3
   },
   "file_extension": ".py",
   "mimetype": "text/x-python",
   "name": "python",
   "nbconvert_exporter": "python",
   "pygments_lexer": "ipython3",
   "version": "3.10.2"
  }
 },
 "nbformat": 4,
 "nbformat_minor": 5
}
