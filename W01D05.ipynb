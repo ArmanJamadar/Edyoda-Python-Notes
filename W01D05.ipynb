{
 "cells": [
  {
   "cell_type": "code",
   "execution_count": 2,
   "id": "d83c6f48",
   "metadata": {},
   "outputs": [
    {
     "name": "stdout",
     "output_type": "stream",
     "text": [
      "0x104fe8110\n",
      "0x104fe8110\n"
     ]
    }
   ],
   "source": [
    "a=2\n",
    "b=2\n",
    "print(hex(id(a)))\n",
    "print(hex(id(b)))"
   ]
  },
  {
   "cell_type": "code",
   "execution_count": 3,
   "id": "065b221c",
   "metadata": {},
   "outputs": [
    {
     "name": "stdout",
     "output_type": "stream",
     "text": [
      "4428993408\n"
     ]
    }
   ],
   "source": [
    "a=[1,2,3]\n",
    "print(id(a))"
   ]
  },
  {
   "cell_type": "code",
   "execution_count": 4,
   "id": "8af51cde",
   "metadata": {},
   "outputs": [
    {
     "name": "stdout",
     "output_type": "stream",
     "text": [
      "4428993408\n"
     ]
    }
   ],
   "source": [
    "a.append(4)\n",
    "print(id(a))"
   ]
  },
  {
   "cell_type": "code",
   "execution_count": 5,
   "id": "31e6ca09",
   "metadata": {},
   "outputs": [
    {
     "name": "stdout",
     "output_type": "stream",
     "text": [
      "4378755312\n"
     ]
    }
   ],
   "source": [
    "print(id(a[0]))"
   ]
  },
  {
   "cell_type": "code",
   "execution_count": 6,
   "id": "16727091",
   "metadata": {},
   "outputs": [
    {
     "name": "stdout",
     "output_type": "stream",
     "text": [
      "4378755376\n"
     ]
    }
   ],
   "source": [
    "print(id(a[2]))"
   ]
  },
  {
   "cell_type": "code",
   "execution_count": 7,
   "id": "87fcbefe",
   "metadata": {},
   "outputs": [
    {
     "name": "stdout",
     "output_type": "stream",
     "text": [
      "ArmanJamadar\n"
     ]
    }
   ],
   "source": [
    "a=\"Arman\"+\"Jamadar\"\n",
    "print(a)"
   ]
  },
  {
   "cell_type": "markdown",
   "id": "85650f0b",
   "metadata": {},
   "source": [
    "# Arithmetic Operator\n"
   ]
  },
  {
   "cell_type": "code",
   "execution_count": 8,
   "id": "79b6aa34",
   "metadata": {},
   "outputs": [
    {
     "name": "stdout",
     "output_type": "stream",
     "text": [
      "400\n"
     ]
    }
   ],
   "source": [
    "a=110\n",
    "b=290\n",
    "sum=a+b\n",
    "print(sum)"
   ]
  },
  {
   "cell_type": "code",
   "execution_count": 9,
   "id": "2ea2e78e",
   "metadata": {},
   "outputs": [
    {
     "name": "stdout",
     "output_type": "stream",
     "text": [
      "-180\n"
     ]
    }
   ],
   "source": [
    "sub=a-b\n",
    "print(sub)"
   ]
  },
  {
   "cell_type": "code",
   "execution_count": 10,
   "id": "eec972dc",
   "metadata": {},
   "outputs": [
    {
     "name": "stdout",
     "output_type": "stream",
     "text": [
      "31900\n"
     ]
    }
   ],
   "source": [
    "#multiplication operator\n",
    "mul=a*b\n",
    "print(mul)"
   ]
  },
  {
   "cell_type": "code",
   "execution_count": 11,
   "id": "bc1afd7c",
   "metadata": {},
   "outputs": [
    {
     "name": "stdout",
     "output_type": "stream",
     "text": [
      "-540\n"
     ]
    }
   ],
   "source": [
    "mul=sub*3\n",
    "print(mul)"
   ]
  },
  {
   "cell_type": "code",
   "execution_count": 12,
   "id": "d1e603dc",
   "metadata": {},
   "outputs": [
    {
     "name": "stdout",
     "output_type": "stream",
     "text": [
      "0.3793103448275862\n"
     ]
    }
   ],
   "source": [
    "#division operator\n",
    "div=a/b\n",
    "print(div)"
   ]
  },
  {
   "cell_type": "code",
   "execution_count": 13,
   "id": "0af39ae7",
   "metadata": {},
   "outputs": [
    {
     "name": "stdout",
     "output_type": "stream",
     "text": [
      "0\n"
     ]
    }
   ],
   "source": [
    "div=a//b\n",
    "print(div)"
   ]
  },
  {
   "cell_type": "code",
   "execution_count": 15,
   "id": "15a20172",
   "metadata": {},
   "outputs": [
    {
     "name": "stdout",
     "output_type": "stream",
     "text": [
      "1\n"
     ]
    }
   ],
   "source": [
    "#modulus operator\n",
    "a=10\n",
    "b=3\n",
    "mod=a%b\n",
    "print(mod)"
   ]
  },
  {
   "cell_type": "code",
   "execution_count": 16,
   "id": "8af28a65",
   "metadata": {},
   "outputs": [
    {
     "name": "stdout",
     "output_type": "stream",
     "text": [
      "27\n"
     ]
    }
   ],
   "source": [
    "#Exponentiation Operator\n",
    "print(3**3)"
   ]
  },
  {
   "cell_type": "code",
   "execution_count": 17,
   "id": "f533025a",
   "metadata": {},
   "outputs": [
    {
     "name": "stdout",
     "output_type": "stream",
     "text": [
      "27\n"
     ]
    }
   ],
   "source": [
    "a=3\n",
    "print(a**3)"
   ]
  },
  {
   "cell_type": "code",
   "execution_count": 1,
   "id": "2147a4eb",
   "metadata": {},
   "outputs": [
    {
     "name": "stdout",
     "output_type": "stream",
     "text": [
      "Enter number5\n",
      "1\n",
      "2\n",
      "3\n",
      "4\n"
     ]
    }
   ],
   "source": [
    "a=int(input(\"Enter number\"))\n",
    "for i in range (1,a):\n",
    "    print(i)\n"
   ]
  },
  {
   "cell_type": "code",
   "execution_count": null,
   "id": "4b4f9b91",
   "metadata": {},
   "outputs": [],
   "source": []
  }
 ],
 "metadata": {
  "kernelspec": {
   "display_name": "Python 3 (ipykernel)",
   "language": "python",
   "name": "python3"
  },
  "language_info": {
   "codemirror_mode": {
    "name": "ipython",
    "version": 3
   },
   "file_extension": ".py",
   "mimetype": "text/x-python",
   "name": "python",
   "nbconvert_exporter": "python",
   "pygments_lexer": "ipython3",
   "version": "3.10.2"
  }
 },
 "nbformat": 4,
 "nbformat_minor": 5
}
